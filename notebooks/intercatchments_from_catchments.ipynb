{
 "cells": [
  {
   "cell_type": "code",
   "execution_count": 1,
   "id": "81887f5b-e34d-4ef6-ad8c-e96070a5d868",
   "metadata": {
    "tags": []
   },
   "outputs": [],
   "source": [
    "import geopandas as gpd\n",
    "import numpy as np\n",
    "import pandas as pd"
   ]
  },
  {
   "cell_type": "code",
   "execution_count": null,
   "id": "bc6123a1-3c35-4161-98c1-251dc13f5b16",
   "metadata": {},
   "outputs": [],
   "source": [
    "def intercatchments_from_catchments(gdf, id_col):\n",
    "    \"\"\"(Sub-)Catchment boundaries derived for outflow points will often overlap.\n",
    "    In many cases, we want non-overlapping \"intercatchments\" rather than true\n",
    "    catchments.\n",
    "\n",
    "    This function generates intercatchments from true sub-catchments.\n",
    "\n",
    "    NOTE: This function is rough and needs proper testing.\n",
    "\n",
    "    Args\n",
    "        gdf:    Geodataframe. Polygons of \"true\" overlapping (sub-)catchments\n",
    "        id_col: Str. Name of column in 'gdf' containing a unique ID for each\n",
    "                sub-catchment.\n",
    "\n",
    "    Returns\n",
    "        Geodataframe of non-overlapping intercatchments.\n",
    "    \"\"\"\n",
    "    assert all(\n",
    "        gdf.geometry.geom_type.isin([\"Polygon\", \"MultiPolygon\"])\n",
    "    ), \"'gdf' must only contain Polygons or MultiPolygons.\"\n",
    "    assert gdf.crs is not None, \"'gdf' does not have a valid CRS.\"\n",
    "    assert gdf[id_col].is_unique, f\"Column '{id_col}' is not unique.\"\n",
    "\n",
    "    gdf = gdf.copy()\n",
    "\n",
    "    # Sort by area from largest to smallest\n",
    "    gdf[\"original_order\"] = np.arange(len(gdf))\n",
    "    gdf[\"area_temp_km2\"] = gdf.to_crs({\"proj\": \"cea\"}).geometry.area / 1e6\n",
    "    gdf.sort_values(\"area_temp_km2\", ascending=False, inplace=True)\n",
    "\n",
    "    # Create a new GeoDataFrame to store the result\n",
    "    inter_gdf = gpd.GeoDataFrame(columns=gdf.columns)\n",
    "\n",
    "    # Clip each polygon with all those that are smaller\n",
    "    for i, (index, row) in enumerate(gdf.iterrows()):\n",
    "        cat_poly = gdf.iloc[i].geometry\n",
    "        small_polys = gdf.iloc[i + 1 :].geometry\n",
    "\n",
    "        # Subtract the smaller overlapping areas from the current polygon\n",
    "        for small_poly in small_polys:\n",
    "            cat_poly = cat_poly.difference(small_poly)\n",
    "\n",
    "        # Assign the resulting polygon to the row's geometry\n",
    "        row.geometry = cat_poly\n",
    "        inter_gdf = pd.concat([inter_gdf, gpd.GeoDataFrame(row).T], ignore_index=True)\n",
    "\n",
    "    # Tidy\n",
    "    inter_gdf = inter_gdf.sort_values(by=\"original_order\").reset_index(drop=True)\n",
    "    inter_gdf = inter_gdf.drop(columns=[\"area_temp_km2\", \"original_order\"])\n",
    "\n",
    "    return inter_gdf"
   ]
  },
  {
   "cell_type": "code",
   "execution_count": 2,
   "id": "07a27657-a250-48e2-8f0c-e6bf58e866c9",
   "metadata": {
    "tags": []
   },
   "outputs": [
    {
     "data": {
      "text/html": [
       "<div>\n",
       "<style scoped>\n",
       "    .dataframe tbody tr th:only-of-type {\n",
       "        vertical-align: middle;\n",
       "    }\n",
       "\n",
       "    .dataframe tbody tr th {\n",
       "        vertical-align: top;\n",
       "    }\n",
       "\n",
       "    .dataframe thead th {\n",
       "        text-align: right;\n",
       "    }\n",
       "</style>\n",
       "<table border=\"1\" class=\"dataframe\">\n",
       "  <thead>\n",
       "    <tr style=\"text-align: right;\">\n",
       "      <th></th>\n",
       "      <th>SC_id</th>\n",
       "      <th>name</th>\n",
       "      <th>catch_boun</th>\n",
       "      <th>outlet_utm</th>\n",
       "      <th>outlet_u_1</th>\n",
       "      <th>inputs_fro</th>\n",
       "      <th>WQ_point</th>\n",
       "      <th>Q_id</th>\n",
       "      <th>area</th>\n",
       "      <th>geometry</th>\n",
       "    </tr>\n",
       "  </thead>\n",
       "  <tbody>\n",
       "    <tr>\n",
       "      <th>0</th>\n",
       "      <td>Ø1</td>\n",
       "      <td>Sæternbekken</td>\n",
       "      <td>delineate</td>\n",
       "      <td>252405.0874</td>\n",
       "      <td>6653449.342</td>\n",
       "      <td>None</td>\n",
       "      <td>None</td>\n",
       "      <td>08.06.2000</td>\n",
       "      <td>6089500.0</td>\n",
       "      <td>POLYGON ((250830.000 6657220.000, 250860.000 6...</td>\n",
       "    </tr>\n",
       "    <tr>\n",
       "      <th>1</th>\n",
       "      <td>Ø2</td>\n",
       "      <td>Blomsterkroken</td>\n",
       "      <td>delineate</td>\n",
       "      <td>251834.6173</td>\n",
       "      <td>6649495.120</td>\n",
       "      <td>008.A1Z</td>\n",
       "      <td>008-60882</td>\n",
       "      <td>08.08.2000</td>\n",
       "      <td>22495400.0</td>\n",
       "      <td>POLYGON ((251500.000 6658670.000, 251520.000 6...</td>\n",
       "    </tr>\n",
       "    <tr>\n",
       "      <th>2</th>\n",
       "      <td>I2</td>\n",
       "      <td>Isielva_bjørum</td>\n",
       "      <td>delineate</td>\n",
       "      <td>244671.0000</td>\n",
       "      <td>6653233.000</td>\n",
       "      <td>None</td>\n",
       "      <td>008-91965</td>\n",
       "      <td>None</td>\n",
       "      <td>48289300.0</td>\n",
       "      <td>POLYGON ((241240.000 6665420.000, 241240.000 6...</td>\n",
       "    </tr>\n",
       "    <tr>\n",
       "      <th>3</th>\n",
       "      <td>S1</td>\n",
       "      <td>Sandvikselva_bjørnegårdssvingen</td>\n",
       "      <td>delineate</td>\n",
       "      <td>248777.3740</td>\n",
       "      <td>6648072.856</td>\n",
       "      <td>008.AAZ, 008.AA0, 008.A2, 008.A12</td>\n",
       "      <td>008-60878</td>\n",
       "      <td>08.02.2000</td>\n",
       "      <td>189898000.0</td>\n",
       "      <td>POLYGON ((244700.000 6673250.000, 244700.000 6...</td>\n",
       "    </tr>\n",
       "  </tbody>\n",
       "</table>\n",
       "</div>"
      ],
      "text/plain": [
       "  SC_id                             name catch_boun   outlet_utm   outlet_u_1  \\\n",
       "0    Ø1                     Sæternbekken  delineate  252405.0874  6653449.342   \n",
       "1    Ø2                   Blomsterkroken  delineate  251834.6173  6649495.120   \n",
       "2    I2                   Isielva_bjørum  delineate  244671.0000  6653233.000   \n",
       "3    S1  Sandvikselva_bjørnegårdssvingen  delineate  248777.3740  6648072.856   \n",
       "\n",
       "                          inputs_fro   WQ_point        Q_id         area  \\\n",
       "0                               None       None  08.06.2000    6089500.0   \n",
       "1                            008.A1Z  008-60882  08.08.2000   22495400.0   \n",
       "2                               None  008-91965        None   48289300.0   \n",
       "3  008.AAZ, 008.AA0, 008.A2, 008.A12  008-60878  08.02.2000  189898000.0   \n",
       "\n",
       "                                            geometry  \n",
       "0  POLYGON ((250830.000 6657220.000, 250860.000 6...  \n",
       "1  POLYGON ((251500.000 6658670.000, 251520.000 6...  \n",
       "2  POLYGON ((241240.000 6665420.000, 241240.000 6...  \n",
       "3  POLYGON ((244700.000 6673250.000, 244700.000 6...  "
      ]
     },
     "execution_count": 2,
     "metadata": {},
     "output_type": "execute_result"
    }
   ],
   "source": [
    "# Read example .shp\n",
    "shp_path = r\"/home/jovyan/shared/common/oslofjord_modelling/catchment_spatial_data/sandvikselva_delineated_scs.shp\"\n",
    "gdf = gpd.read_file(shp_path)\n",
    "\n",
    "# Not sure why, but example .shp from Leah is missing CRS info. Set manually\n",
    "gdf.crs = \"epsg:25833\"\n",
    "gdf.head()"
   ]
  },
  {
   "cell_type": "code",
   "execution_count": 3,
   "id": "dc826120-bd32-4a30-adb2-a71608ff5ba4",
   "metadata": {
    "tags": []
   },
   "outputs": [
    {
     "data": {
      "text/plain": [
       "<Axes: >"
      ]
     },
     "execution_count": 3,
     "metadata": {},
     "output_type": "execute_result"
    },
    {
     "data": {
      "image/png": "[encoded data removed]",
      "text/plain": [
       "<Figure size 640x480 with 1 Axes>"
      ]
     },
     "metadata": {},
     "output_type": "display_data"
    }
   ],
   "source": [
    "# Plot ovelapping true sub-catchments\n",
    "gdf.plot(column=\"name\", facecolor=\"none\")"
   ]
  },
  {
   "cell_type": "code",
   "execution_count": 5,
   "id": "3f88320b-d306-401c-af14-2355a2785fd4",
   "metadata": {
    "tags": []
   },
   "outputs": [
    {
     "data": {
      "text/html": [
       "<div>\n",
       "<style scoped>\n",
       "    .dataframe tbody tr th:only-of-type {\n",
       "        vertical-align: middle;\n",
       "    }\n",
       "\n",
       "    .dataframe tbody tr th {\n",
       "        vertical-align: top;\n",
       "    }\n",
       "\n",
       "    .dataframe thead th {\n",
       "        text-align: right;\n",
       "    }\n",
       "</style>\n",
       "<table border=\"1\" class=\"dataframe\">\n",
       "  <thead>\n",
       "    <tr style=\"text-align: right;\">\n",
       "      <th></th>\n",
       "      <th>SC_id</th>\n",
       "      <th>name</th>\n",
       "      <th>catch_boun</th>\n",
       "      <th>outlet_utm</th>\n",
       "      <th>outlet_u_1</th>\n",
       "      <th>inputs_fro</th>\n",
       "      <th>WQ_point</th>\n",
       "      <th>Q_id</th>\n",
       "      <th>area</th>\n",
       "      <th>geometry</th>\n",
       "    </tr>\n",
       "  </thead>\n",
       "  <tbody>\n",
       "    <tr>\n",
       "      <th>0</th>\n",
       "      <td>Ø1</td>\n",
       "      <td>Sæternbekken</td>\n",
       "      <td>delineate</td>\n",
       "      <td>252405.0874</td>\n",
       "      <td>6653449.342</td>\n",
       "      <td>None</td>\n",
       "      <td>None</td>\n",
       "      <td>08.06.2000</td>\n",
       "      <td>6089500.0</td>\n",
       "      <td>POLYGON ((250830.000 6657220.000, 250860.000 6...</td>\n",
       "    </tr>\n",
       "    <tr>\n",
       "      <th>1</th>\n",
       "      <td>Ø2</td>\n",
       "      <td>Blomsterkroken</td>\n",
       "      <td>delineate</td>\n",
       "      <td>251834.6173</td>\n",
       "      <td>6649495.12</td>\n",
       "      <td>008.A1Z</td>\n",
       "      <td>008-60882</td>\n",
       "      <td>08.08.2000</td>\n",
       "      <td>22495400.0</td>\n",
       "      <td>POLYGON ((251520.000 6658670.000, 251520.000 6...</td>\n",
       "    </tr>\n",
       "    <tr>\n",
       "      <th>2</th>\n",
       "      <td>I2</td>\n",
       "      <td>Isielva_bjørum</td>\n",
       "      <td>delineate</td>\n",
       "      <td>244671.0</td>\n",
       "      <td>6653233.0</td>\n",
       "      <td>None</td>\n",
       "      <td>008-91965</td>\n",
       "      <td>None</td>\n",
       "      <td>48289300.0</td>\n",
       "      <td>POLYGON ((241260.000 6665410.000, 241260.000 6...</td>\n",
       "    </tr>\n",
       "    <tr>\n",
       "      <th>3</th>\n",
       "      <td>S1</td>\n",
       "      <td>Sandvikselva_bjørnegårdssvingen</td>\n",
       "      <td>delineate</td>\n",
       "      <td>248777.374</td>\n",
       "      <td>6648072.856</td>\n",
       "      <td>008.AAZ, 008.AA0, 008.A2, 008.A12</td>\n",
       "      <td>008-60878</td>\n",
       "      <td>08.02.2000</td>\n",
       "      <td>189898000.0</td>\n",
       "      <td>POLYGON ((244720.000 6673150.000, 244730.000 6...</td>\n",
       "    </tr>\n",
       "  </tbody>\n",
       "</table>\n",
       "</div>"
      ],
      "text/plain": [
       "  SC_id                             name catch_boun   outlet_utm   outlet_u_1  \\\n",
       "0    Ø1                     Sæternbekken  delineate  252405.0874  6653449.342   \n",
       "1    Ø2                   Blomsterkroken  delineate  251834.6173   6649495.12   \n",
       "2    I2                   Isielva_bjørum  delineate     244671.0    6653233.0   \n",
       "3    S1  Sandvikselva_bjørnegårdssvingen  delineate   248777.374  6648072.856   \n",
       "\n",
       "                          inputs_fro   WQ_point        Q_id         area  \\\n",
       "0                               None       None  08.06.2000    6089500.0   \n",
       "1                            008.A1Z  008-60882  08.08.2000   22495400.0   \n",
       "2                               None  008-91965        None   48289300.0   \n",
       "3  008.AAZ, 008.AA0, 008.A2, 008.A12  008-60878  08.02.2000  189898000.0   \n",
       "\n",
       "                                            geometry  \n",
       "0  POLYGON ((250830.000 6657220.000, 250860.000 6...  \n",
       "1  POLYGON ((251520.000 6658670.000, 251520.000 6...  \n",
       "2  POLYGON ((241260.000 6665410.000, 241260.000 6...  \n",
       "3  POLYGON ((244720.000 6673150.000, 244730.000 6...  "
      ]
     },
     "execution_count": 5,
     "metadata": {},
     "output_type": "execute_result"
    }
   ],
   "source": [
    "# Get intercatchments\n",
    "inter_gdf = intercatchments_from_catchments(gdf, \"SC_id\")\n",
    "inter_gdf"
   ]
  },
  {
   "cell_type": "code",
   "execution_count": 6,
   "id": "f9eb1f47-effa-4a4e-bc54-3ae0eb6f6e74",
   "metadata": {
    "tags": []
   },
   "outputs": [
    {
     "data": {
      "text/plain": [
       "<Axes: >"
      ]
     },
     "execution_count": 6,
     "metadata": {},
     "output_type": "execute_result"
    },
    {
     "data": {
      "image/png": "[encoded data removed]",
      "text/plain": [
       "<Figure size 640x480 with 1 Axes>"
      ]
     },
     "metadata": {},
     "output_type": "display_data"
    }
   ],
   "source": [
    "inter_gdf.plot(column=\"SC_id\")"
   ]
  }
 ],
 "metadata": {
  "kernelspec": {
   "display_name": "Python 3 (ipykernel)",
   "language": "python",
   "name": "python3"
  },
  "language_info": {
   "codemirror_mode": {
    "name": "ipython",
    "version": 3
   },
   "file_extension": ".py",
   "mimetype": "text/x-python",
   "name": "python",
   "nbconvert_exporter": "python",
   "pygments_lexer": "ipython3",
   "version": "3.10.11"
  }
 },
 "nbformat": 4,
 "nbformat_minor": 5
}
