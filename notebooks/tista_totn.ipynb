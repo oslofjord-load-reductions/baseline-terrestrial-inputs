{
 "cells": [
  {
   "cell_type": "code",
   "execution_count": 1,
   "id": "a041fa2a-5440-4f06-8d77-9faa9981c69d",
   "metadata": {
    "tags": []
   },
   "outputs": [],
   "source": [
    "import nivapy3 as nivapy\n",
    "import pandas as pd"
   ]
  },
  {
   "cell_type": "code",
   "execution_count": 2,
   "id": "0c937aee-4df8-4022-b6e3-87b8082529f0",
   "metadata": {
    "tags": []
   },
   "outputs": [
    {
     "name": "stdin",
     "output_type": "stream",
     "text": [
      "Username:  ········\n",
      "Password:  ········\n"
     ]
    },
    {
     "name": "stdout",
     "output_type": "stream",
     "text": [
      "Connection successful.\n"
     ]
    }
   ],
   "source": [
    "eng = nivapy.da.connect()"
   ]
  },
  {
   "cell_type": "markdown",
   "id": "fb08b3be-048d-4d4c-b68a-5356e2a3621e",
   "metadata": {},
   "source": [
    "# Tista fluxes of TOTN and TOTP\n",
    "\n",
    "Tista utløp Femsjøen has quarterly monitoring from 2004 to 2016."
   ]
  },
  {
   "cell_type": "code",
   "execution_count": 3,
   "id": "293e49a0-87e3-4c59-af2d-5f92af0e1f98",
   "metadata": {
    "tags": []
   },
   "outputs": [],
   "source": [
    "st_yr, end_yr = 2004, 2016\n",
    "stn_id = 29830  # ØSTETIS (Tista utløp Femsjøen)\n",
    "par_list = [\"TOTN\"]"
   ]
  },
  {
   "cell_type": "code",
   "execution_count": 4,
   "id": "80568552-31dc-4bd0-b263-77de9104e3c4",
   "metadata": {},
   "outputs": [
    {
     "name": "stdout",
     "output_type": "stream",
     "text": [
      "25 parameters available for the selected stations and dates.\n"
     ]
    },
    {
     "data": {
      "text/html": [
       "<div>\n",
       "<style scoped>\n",
       "    .dataframe tbody tr th:only-of-type {\n",
       "        vertical-align: middle;\n",
       "    }\n",
       "\n",
       "    .dataframe tbody tr th {\n",
       "        vertical-align: top;\n",
       "    }\n",
       "\n",
       "    .dataframe thead th {\n",
       "        text-align: right;\n",
       "    }\n",
       "</style>\n",
       "<table border=\"1\" class=\"dataframe\">\n",
       "  <thead>\n",
       "    <tr style=\"text-align: right;\">\n",
       "      <th></th>\n",
       "      <th>parameter_id</th>\n",
       "      <th>parameter_name</th>\n",
       "      <th>unit</th>\n",
       "      <th>par_unit</th>\n",
       "    </tr>\n",
       "  </thead>\n",
       "  <tbody>\n",
       "    <tr>\n",
       "      <th>17</th>\n",
       "      <td>4</td>\n",
       "      <td>TOTN</td>\n",
       "      <td>µg/l N</td>\n",
       "      <td>TOTN_µg/l N</td>\n",
       "    </tr>\n",
       "  </tbody>\n",
       "</table>\n",
       "</div>"
      ],
      "text/plain": [
       "    parameter_id parameter_name    unit     par_unit\n",
       "17             4           TOTN  µg/l N  TOTN_µg/l N"
      ]
     },
     "execution_count": 4,
     "metadata": {},
     "output_type": "execute_result"
    }
   ],
   "source": [
    "# Get par ID of interest\n",
    "par_df = nivapy.da.select_resa_station_parameters(\n",
    "    [stn_id], f\"{st_yr}-01-01\", f\"{end_yr}-12-31\", eng\n",
    ")\n",
    "par_df = par_df.query(\"parameter_name in @par_list\")\n",
    "par_df[\"par_unit\"] = par_df[\"parameter_name\"] + \"_\" + par_df[\"unit\"]\n",
    "par_df"
   ]
  },
  {
   "cell_type": "code",
   "execution_count": 5,
   "id": "20a2cdfd-21b1-4a13-98d1-e2c1a776f6e6",
   "metadata": {
    "tags": []
   },
   "outputs": [
    {
     "data": {
      "text/html": [
       "<div>\n",
       "<style scoped>\n",
       "    .dataframe tbody tr th:only-of-type {\n",
       "        vertical-align: middle;\n",
       "    }\n",
       "\n",
       "    .dataframe tbody tr th {\n",
       "        vertical-align: top;\n",
       "    }\n",
       "\n",
       "    .dataframe thead th {\n",
       "        text-align: right;\n",
       "    }\n",
       "</style>\n",
       "<table border=\"1\" class=\"dataframe\">\n",
       "  <thead>\n",
       "    <tr style=\"text-align: right;\">\n",
       "      <th></th>\n",
       "      <th>TOTN_ug/l</th>\n",
       "    </tr>\n",
       "    <tr>\n",
       "      <th>sample_date</th>\n",
       "      <th></th>\n",
       "    </tr>\n",
       "  </thead>\n",
       "  <tbody>\n",
       "    <tr>\n",
       "      <th>2004-03-23</th>\n",
       "      <td>885</td>\n",
       "    </tr>\n",
       "    <tr>\n",
       "      <th>2004-05-10</th>\n",
       "      <td>975</td>\n",
       "    </tr>\n",
       "    <tr>\n",
       "      <th>2004-08-09</th>\n",
       "      <td>850</td>\n",
       "    </tr>\n",
       "    <tr>\n",
       "      <th>2004-10-04</th>\n",
       "      <td>845</td>\n",
       "    </tr>\n",
       "    <tr>\n",
       "      <th>2005-02-14</th>\n",
       "      <td>900</td>\n",
       "    </tr>\n",
       "  </tbody>\n",
       "</table>\n",
       "</div>"
      ],
      "text/plain": [
       "             TOTN_ug/l\n",
       "sample_date           \n",
       "2004-03-23         885\n",
       "2004-05-10         975\n",
       "2004-08-09         850\n",
       "2004-10-04         845\n",
       "2005-02-14         900"
      ]
     },
     "execution_count": 5,
     "metadata": {},
     "output_type": "execute_result"
    }
   ],
   "source": [
    "# Get chem\n",
    "wc_df, dup_df = nivapy.da.select_resa_water_chemistry(\n",
    "    [stn_id], par_df, f\"{st_yr}-01-01\", f\"{end_yr}-12-31\", eng\n",
    ")\n",
    "wc_df = wc_df[[\"sample_date\"] + list(par_df[\"par_unit\"])].set_index(\"sample_date\")\n",
    "wc_df.rename(\n",
    "    {\"TOTN_µg/l N\": \"TOTN_ug/l\", \"TOTP_µg/l P\": \"TOTP_ug/l\"},\n",
    "    axis=\"columns\",\n",
    "    inplace=True,\n",
    ")\n",
    "wc_df.head()"
   ]
  },
  {
   "cell_type": "code",
   "execution_count": 6,
   "id": "8da06646-b7c5-4c37-9ed3-10d2b76c165d",
   "metadata": {
    "tags": []
   },
   "outputs": [
    {
     "data": {
      "text/html": [
       "<div>\n",
       "<style scoped>\n",
       "    .dataframe tbody tr th:only-of-type {\n",
       "        vertical-align: middle;\n",
       "    }\n",
       "\n",
       "    .dataframe tbody tr th {\n",
       "        vertical-align: top;\n",
       "    }\n",
       "\n",
       "    .dataframe thead th {\n",
       "        text-align: right;\n",
       "    }\n",
       "</style>\n",
       "<table border=\"1\" class=\"dataframe\">\n",
       "  <thead>\n",
       "    <tr style=\"text-align: right;\">\n",
       "      <th></th>\n",
       "      <th>flow_m3/s</th>\n",
       "    </tr>\n",
       "    <tr>\n",
       "      <th>date</th>\n",
       "      <th></th>\n",
       "    </tr>\n",
       "  </thead>\n",
       "  <tbody>\n",
       "    <tr>\n",
       "      <th>2004-01-01</th>\n",
       "      <td>29.303731</td>\n",
       "    </tr>\n",
       "    <tr>\n",
       "      <th>2004-01-02</th>\n",
       "      <td>27.919507</td>\n",
       "    </tr>\n",
       "    <tr>\n",
       "      <th>2004-01-03</th>\n",
       "      <td>26.609203</td>\n",
       "    </tr>\n",
       "    <tr>\n",
       "      <th>2004-01-04</th>\n",
       "      <td>25.385660</td>\n",
       "    </tr>\n",
       "    <tr>\n",
       "      <th>2004-01-05</th>\n",
       "      <td>24.271542</td>\n",
       "    </tr>\n",
       "  </tbody>\n",
       "</table>\n",
       "</div>"
      ],
      "text/plain": [
       "            flow_m3/s\n",
       "date                 \n",
       "2004-01-01  29.303731\n",
       "2004-01-02  27.919507\n",
       "2004-01-03  26.609203\n",
       "2004-01-04  25.385660\n",
       "2004-01-05  24.271542"
      ]
     },
     "execution_count": 6,
     "metadata": {},
     "output_type": "execute_result"
    }
   ],
   "source": [
    "# Get flow\n",
    "q_df = nivapy.da.extract_resa_discharge(\n",
    "    stn_id, f\"{st_yr}-01-01\", f\"{end_yr}-12-31\", eng\n",
    ")\n",
    "q_df.head()"
   ]
  },
  {
   "cell_type": "code",
   "execution_count": 7,
   "id": "11ccad28-4086-4778-a214-bf6f62daa1a6",
   "metadata": {
    "tags": []
   },
   "outputs": [
    {
     "data": {
      "text/html": [
       "<div>\n",
       "<style scoped>\n",
       "    .dataframe tbody tr th:only-of-type {\n",
       "        vertical-align: middle;\n",
       "    }\n",
       "\n",
       "    .dataframe tbody tr th {\n",
       "        vertical-align: top;\n",
       "    }\n",
       "\n",
       "    .dataframe thead th {\n",
       "        text-align: right;\n",
       "    }\n",
       "</style>\n",
       "<table border=\"1\" class=\"dataframe\">\n",
       "  <thead>\n",
       "    <tr style=\"text-align: right;\">\n",
       "      <th></th>\n",
       "      <th>TOTN_kg</th>\n",
       "    </tr>\n",
       "    <tr>\n",
       "      <th>year</th>\n",
       "      <th></th>\n",
       "    </tr>\n",
       "  </thead>\n",
       "  <tbody>\n",
       "    <tr>\n",
       "      <th>2004</th>\n",
       "      <td>627116.834016</td>\n",
       "    </tr>\n",
       "    <tr>\n",
       "      <th>2005</th>\n",
       "      <td>517940.504610</td>\n",
       "    </tr>\n",
       "    <tr>\n",
       "      <th>2006</th>\n",
       "      <td>745274.715368</td>\n",
       "    </tr>\n",
       "    <tr>\n",
       "      <th>2007</th>\n",
       "      <td>693601.016044</td>\n",
       "    </tr>\n",
       "    <tr>\n",
       "      <th>2008</th>\n",
       "      <td>814748.572071</td>\n",
       "    </tr>\n",
       "    <tr>\n",
       "      <th>2009</th>\n",
       "      <td>527432.222974</td>\n",
       "    </tr>\n",
       "    <tr>\n",
       "      <th>2010</th>\n",
       "      <td>397913.982289</td>\n",
       "    </tr>\n",
       "    <tr>\n",
       "      <th>2011</th>\n",
       "      <td>624316.926454</td>\n",
       "    </tr>\n",
       "    <tr>\n",
       "      <th>2012</th>\n",
       "      <td>602003.895026</td>\n",
       "    </tr>\n",
       "    <tr>\n",
       "      <th>2013</th>\n",
       "      <td>475313.127461</td>\n",
       "    </tr>\n",
       "    <tr>\n",
       "      <th>2014</th>\n",
       "      <td>753719.498514</td>\n",
       "    </tr>\n",
       "    <tr>\n",
       "      <th>2015</th>\n",
       "      <td>698618.205763</td>\n",
       "    </tr>\n",
       "    <tr>\n",
       "      <th>2016</th>\n",
       "      <td>452150.987132</td>\n",
       "    </tr>\n",
       "  </tbody>\n",
       "</table>\n",
       "</div>"
      ],
      "text/plain": [
       "            TOTN_kg\n",
       "year               \n",
       "2004  627116.834016\n",
       "2005  517940.504610\n",
       "2006  745274.715368\n",
       "2007  693601.016044\n",
       "2008  814748.572071\n",
       "2009  527432.222974\n",
       "2010  397913.982289\n",
       "2011  624316.926454\n",
       "2012  602003.895026\n",
       "2013  475313.127461\n",
       "2014  753719.498514\n",
       "2015  698618.205763\n",
       "2016  452150.987132"
      ]
     },
     "execution_count": 7,
     "metadata": {},
     "output_type": "execute_result"
    }
   ],
   "source": [
    "flux_df = nivapy.stats.estimate_fluxes(\n",
    "    q_df, wc_df, base_freq=\"D\", agg_freq=\"A\", method=\"ospar_annual\"\n",
    ")\n",
    "flux_df"
   ]
  },
  {
   "cell_type": "code",
   "execution_count": 10,
   "id": "3ef6eafe-2310-435b-b197-fbb559ca2531",
   "metadata": {
    "tags": []
   },
   "outputs": [
    {
     "data": {
      "text/html": [
       "<div>\n",
       "<style scoped>\n",
       "    .dataframe tbody tr th:only-of-type {\n",
       "        vertical-align: middle;\n",
       "    }\n",
       "\n",
       "    .dataframe tbody tr th {\n",
       "        vertical-align: top;\n",
       "    }\n",
       "\n",
       "    .dataframe thead th {\n",
       "        text-align: right;\n",
       "    }\n",
       "</style>\n",
       "<table border=\"1\" class=\"dataframe\">\n",
       "  <thead>\n",
       "    <tr style=\"text-align: right;\">\n",
       "      <th></th>\n",
       "      <th>TOTN_kg</th>\n",
       "    </tr>\n",
       "    <tr>\n",
       "      <th>year</th>\n",
       "      <th></th>\n",
       "    </tr>\n",
       "  </thead>\n",
       "  <tbody>\n",
       "    <tr>\n",
       "      <th>2004</th>\n",
       "      <td>8.466077e+05</td>\n",
       "    </tr>\n",
       "    <tr>\n",
       "      <th>2005</th>\n",
       "      <td>6.992197e+05</td>\n",
       "    </tr>\n",
       "    <tr>\n",
       "      <th>2006</th>\n",
       "      <td>1.006121e+06</td>\n",
       "    </tr>\n",
       "    <tr>\n",
       "      <th>2007</th>\n",
       "      <td>9.363614e+05</td>\n",
       "    </tr>\n",
       "    <tr>\n",
       "      <th>2008</th>\n",
       "      <td>1.099911e+06</td>\n",
       "    </tr>\n",
       "    <tr>\n",
       "      <th>2009</th>\n",
       "      <td>7.120335e+05</td>\n",
       "    </tr>\n",
       "    <tr>\n",
       "      <th>2010</th>\n",
       "      <td>5.371839e+05</td>\n",
       "    </tr>\n",
       "    <tr>\n",
       "      <th>2011</th>\n",
       "      <td>8.428279e+05</td>\n",
       "    </tr>\n",
       "    <tr>\n",
       "      <th>2012</th>\n",
       "      <td>8.127053e+05</td>\n",
       "    </tr>\n",
       "    <tr>\n",
       "      <th>2013</th>\n",
       "      <td>6.416727e+05</td>\n",
       "    </tr>\n",
       "    <tr>\n",
       "      <th>2014</th>\n",
       "      <td>1.017521e+06</td>\n",
       "    </tr>\n",
       "    <tr>\n",
       "      <th>2015</th>\n",
       "      <td>9.431346e+05</td>\n",
       "    </tr>\n",
       "    <tr>\n",
       "      <th>2016</th>\n",
       "      <td>6.104038e+05</td>\n",
       "    </tr>\n",
       "  </tbody>\n",
       "</table>\n",
       "</div>"
      ],
      "text/plain": [
       "           TOTN_kg\n",
       "year              \n",
       "2004  8.466077e+05\n",
       "2005  6.992197e+05\n",
       "2006  1.006121e+06\n",
       "2007  9.363614e+05\n",
       "2008  1.099911e+06\n",
       "2009  7.120335e+05\n",
       "2010  5.371839e+05\n",
       "2011  8.428279e+05\n",
       "2012  8.127053e+05\n",
       "2013  6.416727e+05\n",
       "2014  1.017521e+06\n",
       "2015  9.431346e+05\n",
       "2016  6.104038e+05"
      ]
     },
     "execution_count": 10,
     "metadata": {},
     "output_type": "execute_result"
    }
   ],
   "source": [
    "# Phil estimates a ~35% increase in TOTN concs moving downstream\n",
    "flux_df2 = nivapy.stats.estimate_fluxes(\n",
    "    q_df, 1.35 * wc_df, base_freq=\"D\", agg_freq=\"A\", method=\"ospar_annual\"\n",
    ")\n",
    "flux_df2"
   ]
  },
  {
   "cell_type": "code",
   "execution_count": 11,
   "id": "875f2e70-dadf-4fdc-a0ad-eb72040186b5",
   "metadata": {
    "tags": []
   },
   "outputs": [
    {
     "data": {
      "text/html": [
       "<div>\n",
       "<style scoped>\n",
       "    .dataframe tbody tr th:only-of-type {\n",
       "        vertical-align: middle;\n",
       "    }\n",
       "\n",
       "    .dataframe tbody tr th {\n",
       "        vertical-align: top;\n",
       "    }\n",
       "\n",
       "    .dataframe thead th {\n",
       "        text-align: right;\n",
       "    }\n",
       "</style>\n",
       "<table border=\"1\" class=\"dataframe\">\n",
       "  <thead>\n",
       "    <tr style=\"text-align: right;\">\n",
       "      <th></th>\n",
       "      <th>TOTN_tonnes</th>\n",
       "    </tr>\n",
       "    <tr>\n",
       "      <th>year</th>\n",
       "      <th></th>\n",
       "    </tr>\n",
       "  </thead>\n",
       "  <tbody>\n",
       "    <tr>\n",
       "      <th>2004</th>\n",
       "      <td>219.490892</td>\n",
       "    </tr>\n",
       "    <tr>\n",
       "      <th>2005</th>\n",
       "      <td>181.279177</td>\n",
       "    </tr>\n",
       "    <tr>\n",
       "      <th>2006</th>\n",
       "      <td>260.846150</td>\n",
       "    </tr>\n",
       "    <tr>\n",
       "      <th>2007</th>\n",
       "      <td>242.760356</td>\n",
       "    </tr>\n",
       "    <tr>\n",
       "      <th>2008</th>\n",
       "      <td>285.162000</td>\n",
       "    </tr>\n",
       "    <tr>\n",
       "      <th>2009</th>\n",
       "      <td>184.601278</td>\n",
       "    </tr>\n",
       "    <tr>\n",
       "      <th>2010</th>\n",
       "      <td>139.269894</td>\n",
       "    </tr>\n",
       "    <tr>\n",
       "      <th>2011</th>\n",
       "      <td>218.510924</td>\n",
       "    </tr>\n",
       "    <tr>\n",
       "      <th>2012</th>\n",
       "      <td>210.701363</td>\n",
       "    </tr>\n",
       "    <tr>\n",
       "      <th>2013</th>\n",
       "      <td>166.359595</td>\n",
       "    </tr>\n",
       "    <tr>\n",
       "      <th>2014</th>\n",
       "      <td>263.801824</td>\n",
       "    </tr>\n",
       "    <tr>\n",
       "      <th>2015</th>\n",
       "      <td>244.516372</td>\n",
       "    </tr>\n",
       "    <tr>\n",
       "      <th>2016</th>\n",
       "      <td>158.252845</td>\n",
       "    </tr>\n",
       "  </tbody>\n",
       "</table>\n",
       "</div>"
      ],
      "text/plain": [
       "      TOTN_tonnes\n",
       "year             \n",
       "2004   219.490892\n",
       "2005   181.279177\n",
       "2006   260.846150\n",
       "2007   242.760356\n",
       "2008   285.162000\n",
       "2009   184.601278\n",
       "2010   139.269894\n",
       "2011   218.510924\n",
       "2012   210.701363\n",
       "2013   166.359595\n",
       "2014   263.801824\n",
       "2015   244.516372\n",
       "2016   158.252845"
      ]
     },
     "execution_count": 11,
     "metadata": {},
     "output_type": "execute_result"
    }
   ],
   "source": [
    "# Convert difference to tonnes\n",
    "diff_df = (flux_df2 - flux_df) / 1000\n",
    "diff_df.columns = [i.replace(\"kg\", \"tonnes\") for i in inc_df.columns]\n",
    "diff_df"
   ]
  },
  {
   "cell_type": "code",
   "execution_count": 12,
   "id": "b6997088-74c5-4afe-bf69-ef1baa5005bd",
   "metadata": {
    "tags": []
   },
   "outputs": [
    {
     "data": {
      "text/plain": [
       "TOTN_tonnes    213.504052\n",
       "dtype: float64"
      ]
     },
     "execution_count": 12,
     "metadata": {},
     "output_type": "execute_result"
    }
   ],
   "source": [
    "diff_df.mean()"
   ]
  }
 ],
 "metadata": {
  "kernelspec": {
   "display_name": "Python 3 (ipykernel)",
   "language": "python",
   "name": "python3"
  },
  "language_info": {
   "codemirror_mode": {
    "name": "ipython",
    "version": 3
   },
   "file_extension": ".py",
   "mimetype": "text/x-python",
   "name": "python",
   "nbconvert_exporter": "python",
   "pygments_lexer": "ipython3",
   "version": "3.10.11"
  }
 },
 "nbformat": 4,
 "nbformat_minor": 5
}
